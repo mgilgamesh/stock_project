{
 "cells": [
  {
   "cell_type": "code",
   "execution_count": null,
   "metadata": {},
   "outputs": [],
   "source": [
    "import pandas as pd\n",
    "# 指定原始Parquet文件路径\n",
    "input_file_path = 'path_to_your_input_file.parquet'\n",
    "# 指定要保存的新Parquet文件路径\n",
    "output_file_path = 'path_to_your_output_file.parquet'\n",
    "\n",
    "# 读取Parquet文件\n",
    "df = pd.read_parquet(input_file_path, engine='pyarrow')\n",
    "\n",
    "# 截取前10万行数据\n",
    "df_subset = df.head(100000)\n",
    "\n",
    "# 将截取后的数据保存为新的Parquet文件\n",
    "df_subset.to_parquet(output_file_path, engine='pyarrow', index=False)\n"
   ]
  },
  {
   "cell_type": "code",
   "execution_count": 3,
   "metadata": {},
   "outputs": [
    {
     "name": "stdout",
     "output_type": "stream",
     "text": [
      "           serverTime    bidPx1    bidPx2    bidPx3    bidPx4    bidPx5  \\\n",
      "0          93000759.0  2565.949  2564.523  2562.223  2561.280  2559.923   \n",
      "1          93000759.0  2565.949  2564.523  2562.223  2561.280  2559.923   \n",
      "2          93000759.0  2565.949  2564.523  2562.223  2561.280  2559.923   \n",
      "3          93001211.0  2564.523  2562.223  2561.280  2559.923  2559.900   \n",
      "4          93001211.0  2564.523  2562.223  2561.280  2559.923  2559.900   \n",
      "...               ...       ...       ...       ...       ...       ...   \n",
      "14995814  145659661.0  2792.890  2792.246  2792.223  2792.200  2791.924   \n",
      "14995815  145659661.0  2792.890  2792.246  2792.223  2792.200  2791.924   \n",
      "14995816  145659661.0  2792.890  2792.246  2792.223  2792.200  2791.924   \n",
      "14995817  145659661.0  2792.890  2792.246  2792.223  2792.200  2791.924   \n",
      "14995818  145659661.0  2792.890  2792.246  2792.223  2792.200  2791.924   \n",
      "\n",
      "          bidVlm1  bidVlm2  bidVlm3  bidVlm4  ...  askVlm1  askV1m2  askVlm3  \\\n",
      "0             2.0      1.0      1.0      1.0  ...     38.0      4.0     18.0   \n",
      "1             2.0      1.0      1.0      1.0  ...     38.0      4.0     18.0   \n",
      "2             2.0      1.0      1.0      1.0  ...     38.0      4.0     18.0   \n",
      "3             1.0      1.0      1.0      2.0  ...      8.0     38.0      4.0   \n",
      "4             1.0      1.0      1.0      2.0  ...      8.0     38.0      4.0   \n",
      "...           ...      ...      ...      ...  ...      ...      ...      ...   \n",
      "14995814      1.0      1.0      2.0    436.0  ...      2.0      3.0      1.0   \n",
      "14995815      1.0      1.0      2.0    436.0  ...      2.0      3.0      1.0   \n",
      "14995816      1.0      1.0      2.0    436.0  ...      2.0      3.0      1.0   \n",
      "14995817      1.0      1.0      2.0    436.0  ...      2.0      3.0      1.0   \n",
      "14995818      1.0      1.0      2.0    436.0  ...      2.0      3.0      1.0   \n",
      "\n",
      "          askV1m4  askV1m5   code   signal0   signal1   signal2    eventTime  \n",
      "0           250.0      1.0    1.0  0.110771  0.000000  0.000000   93000820.0  \n",
      "1           250.0      1.0    1.0  0.039764  0.000000  0.000000   93000850.0  \n",
      "2           250.0      1.0    1.0  0.163483  0.000000  0.000000   93000920.0  \n",
      "3            18.0    250.0    1.0  0.221146  0.000000  0.000000   93001270.0  \n",
      "4            18.0    250.0    1.0  0.283256  0.000000  0.000000   93001400.0  \n",
      "...           ...      ...    ...       ...       ...       ...          ...  \n",
      "14995814      4.0     10.0  520.0 -0.178899 -2.298326 -0.846698  145954000.0  \n",
      "14995815      4.0     10.0  520.0 -0.178899 -2.392438 -0.846698  145957000.0  \n",
      "14995816      4.0     10.0  520.0 -0.178899 -2.392438 -0.899131  145957000.0  \n",
      "14995817      4.0     10.0  520.0 -0.178899 -2.514530 -0.899131  150000000.0  \n",
      "14995818      4.0     10.0  520.0 -0.178899 -2.514530 -0.868018  150000000.0  \n",
      "\n",
      "[14995819 rows x 26 columns]\n"
     ]
    }
   ],
   "source": [
    "import pandas as pd\n",
    "import os\n",
    "\n",
    "file_dirs = os.list\n",
    "\n",
    "input_file_path = '/home/mz/stock_all_data/20200102/train_data.parquet'\n",
    "output_file_path = '/home/mz/stock_all_data/20200102/out_train_data.parquet'\n",
    "\n",
    "df = pd.read_parquet(input_file_path, engine='pyarrow')\n",
    "print(df)\n",
    "\n",
    "\n",
    "# 截取前10万行数据\n",
    "df_subset = df.head(100000)\n",
    "\n",
    "# 将截取后的数据保存为新的Parquet文件\n",
    "df_subset.to_parquet(output_file_path, engine='pyarrow', index=False)\n",
    "\n",
    "\n"
   ]
  },
  {
   "cell_type": "code",
   "execution_count": 1,
   "metadata": {},
   "outputs": [
    {
     "ename": "",
     "evalue": "",
     "output_type": "error",
     "traceback": [
      "\u001b[1;31mCanceled future for execute_request message before replies were done"
     ]
    },
    {
     "ename": "",
     "evalue": "",
     "output_type": "error",
     "traceback": [
      "\u001b[1;31m在当前单元格或上一个单元格中执行代码时 Kernel 崩溃。请查看单元格中的代码，以确定故障的可能原因。有关详细信息，请单击 <a href='https://aka.ms/vscodeJupyterKernelCrash'>此处</a>。有关更多详细信息，请查看 Jupyter <a href='command:jupyter.viewOutput'>log</a>。"
     ]
    }
   ],
   "source": [
    "import pandas as pd\n",
    "import os\n",
    "\n",
    "folders = [name for name in os.listdir(\"stock_all_data\")]\n",
    "\n",
    "full_input_name = '/home/mz/stock_all_data/'+folders[1]+'/train_data.parquet'\n",
    "output_file_path = '/home/mz/stock_all_data/'+folders[1]+'/out_train_data.parquet'\n",
    "df = pd.read_parquet(full_input_name, engine='pyarrow')\n",
    "# 截取前10万行数据\n",
    "df_subset = df.head(800000)\n",
    "# 将截取后的数据保存为新的Parquet文件\n",
    "df_subset.to_parquet(output_file_path, engine='pyarrow', index=False)\n",
    "    \n",
    "\n"
   ]
  },
  {
   "cell_type": "code",
   "execution_count": 2,
   "metadata": {},
   "outputs": [
    {
     "name": "stdout",
     "output_type": "stream",
     "text": [
      "df1:    serverTime    bidPx1    bidPx2    bidPx3   bidPx4    bidPx5  bidVlm1  \\\n",
      "0  93000759.0  2565.949  2564.523  2562.223  2561.28  2559.923      2.0   \n",
      "\n",
      "   bidVlm2  bidVlm3  bidVlm4  ...  askVlm1  askV1m2  askVlm3  askV1m4  \\\n",
      "0      1.0      1.0      1.0  ...     38.0      4.0     18.0    250.0   \n",
      "\n",
      "   askV1m5  code   signal0  signal1  signal2   eventTime  \n",
      "0      1.0   1.0  0.110771      0.0      0.0  93000820.0  \n",
      "\n",
      "[1 rows x 26 columns]\n",
      "df2:    serverTime    bidPx1    bidPx2    bidPx3   bidPx4    bidPx5  bidVlm1  \\\n",
      "0  93000759.0  2565.949  2564.523  2562.223  2561.28  2559.923      2.0   \n",
      "\n",
      "   bidVlm2  bidVlm3  bidVlm4  ...  askVlm1  askV1m2  askVlm3  askV1m4  \\\n",
      "0      1.0      1.0      1.0  ...     38.0      4.0     18.0    250.0   \n",
      "\n",
      "   askV1m5  code   signal0  signal1  signal2   eventTime  \n",
      "0      1.0   1.0  0.110771      0.0      0.0  93000820.0  \n",
      "\n",
      "[1 rows x 26 columns]\n"
     ]
    }
   ],
   "source": [
    "import pandas as pd\n",
    "\n",
    "input_file_path = 'test_data/df_slice_1.parquet'\n",
    "\n",
    "df1 = pd.read_parquet(input_file_path, engine='fastparquet')\n",
    "\n",
    "print(len(df1))\n"
   ]
  }
 ],
 "metadata": {
  "kernelspec": {
   "display_name": "revive_new",
   "language": "python",
   "name": "python3"
  },
  "language_info": {
   "codemirror_mode": {
    "name": "ipython",
    "version": 3
   },
   "file_extension": ".py",
   "mimetype": "text/x-python",
   "name": "python",
   "nbconvert_exporter": "python",
   "pygments_lexer": "ipython3",
   "version": "3.9.6"
  },
  "orig_nbformat": 4
 },
 "nbformat": 4,
 "nbformat_minor": 2
}
